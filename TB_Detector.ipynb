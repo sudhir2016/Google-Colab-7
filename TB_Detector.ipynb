{
  "nbformat": 4,
  "nbformat_minor": 0,
  "metadata": {
    "colab": {
      "name": "TB_Detector.ipynb",
      "provenance": [],
      "collapsed_sections": [],
      "machine_shape": "hm",
      "include_colab_link": true
    },
    "kernelspec": {
      "name": "python3",
      "display_name": "Python 3"
    }
  },
  "cells": [
    {
      "cell_type": "markdown",
      "metadata": {
        "id": "view-in-github",
        "colab_type": "text"
      },
      "source": [
        "<a href=\"https://colab.research.google.com/github/sudhir2016/Google-Colab-7/blob/master/TB_Detector.ipynb\" target=\"_parent\"><img src=\"https://colab.research.google.com/assets/colab-badge.svg\" alt=\"Open In Colab\"/></a>"
      ]
    },
    {
      "cell_type": "markdown",
      "metadata": {
        "id": "VzPujIJZk-st",
        "colab_type": "text"
      },
      "source": [
        "Load Python, TensorFlow and Keras libraries."
      ]
    },
    {
      "cell_type": "code",
      "metadata": {
        "id": "ISoa7WM2k5xH",
        "colab_type": "code",
        "colab": {}
      },
      "source": [
        "import tensorflow as tf\n",
        "from tensorflow import keras\n",
        "import numpy as np\n",
        "import matplotlib.pyplot as plt\n",
        "from keras.preprocessing.image import load_img\n",
        "import cv2\n",
        "import glob\n",
        "from sklearn.model_selection import train_test_split\n",
        "from tensorflow.keras.preprocessing.image import ImageDataGenerator"
      ],
      "execution_count": 0,
      "outputs": []
    },
    {
      "cell_type": "code",
      "metadata": {
        "id": "k2e6BH8xpgc7",
        "colab_type": "code",
        "colab": {}
      },
      "source": [
        "from tensorflow.keras.applications import VGG16\n",
        "from tensorflow.keras.layers import Input\n",
        "from tensorflow.keras.layers import AveragePooling2D\n",
        "from tensorflow.keras.layers import Flatten\n",
        "from tensorflow.keras.layers import Dense\n",
        "from tensorflow.keras.layers import Dropout\n",
        "from tensorflow.keras.models import Model"
      ],
      "execution_count": 0,
      "outputs": []
    },
    {
      "cell_type": "markdown",
      "metadata": {
        "id": "SHeYwxEbnz_S",
        "colab_type": "text"
      },
      "source": [
        "Create empty lists for CXR images (X) and normal/abmormal labels(Y)."
      ]
    },
    {
      "cell_type": "code",
      "metadata": {
        "id": "SeWtDwTFoEzm",
        "colab_type": "code",
        "colab": {}
      },
      "source": [
        "X=[]\n",
        "Y=[]"
      ],
      "execution_count": 0,
      "outputs": []
    },
    {
      "cell_type": "markdown",
      "metadata": {
        "id": "7SkMF5VgmN8L",
        "colab_type": "text"
      },
      "source": [
        "Load 297 CXR images of normal patients from Shenzhen dataset."
      ]
    },
    {
      "cell_type": "code",
      "metadata": {
        "id": "o2LtTtFX2Sve",
        "colab_type": "code",
        "colab": {}
      },
      "source": [
        " image1= [cv2.imread(file) for file in glob.glob('/content/TB/lungs/Normal/*.*')]"
      ],
      "execution_count": 0,
      "outputs": []
    },
    {
      "cell_type": "markdown",
      "metadata": {
        "id": "Gs3ItZYOosKs",
        "colab_type": "text"
      },
      "source": [
        "Resize the images to 224*224 and append to list X. Declare a label of 0 (normal) for each of these images and append to label list Y."
      ]
    },
    {
      "cell_type": "code",
      "metadata": {
        "id": "crXLxj32Ge1S",
        "colab_type": "code",
        "colab": {}
      },
      "source": [
        "for i in range (296):\n",
        "  image2 = cv2.resize(image1[i], dsize=(224, 224), interpolation=cv2.INTER_CUBIC)\n",
        "  X.append(image2)\n",
        "  out=0\n",
        "  Y.append(out)"
      ],
      "execution_count": 0,
      "outputs": []
    },
    {
      "cell_type": "markdown",
      "metadata": {
        "id": "iOjBpfLppp8Y",
        "colab_type": "text"
      },
      "source": [
        "Load 305 CXR images of abnormal patients ( with TB manifestations) from Shenzhen dataset."
      ]
    },
    {
      "cell_type": "code",
      "metadata": {
        "id": "57WqXWLnbHS2",
        "colab_type": "code",
        "colab": {}
      },
      "source": [
        "image3 = [cv2.imread(file) for file in glob.glob('/content/TB/lungs/Abnormal/*.*')]"
      ],
      "execution_count": 0,
      "outputs": []
    },
    {
      "cell_type": "markdown",
      "metadata": {
        "id": "qW8NiXtbp5wL",
        "colab_type": "text"
      },
      "source": [
        "Resize the images to 224*224 and append to list X. Declare a label of 1 (abnormal) for each of these images and append to label list Y."
      ]
    },
    {
      "cell_type": "code",
      "metadata": {
        "id": "6m1NAsePJCe1",
        "colab_type": "code",
        "colab": {}
      },
      "source": [
        "for i in range (304):\n",
        "  image4 = cv2.resize(image3[i], dsize=(224, 224), interpolation=cv2.INTER_CUBIC)\n",
        "  X.append(image4)\n",
        "  out=1\n",
        "  Y.append(out)"
      ],
      "execution_count": 0,
      "outputs": []
    },
    {
      "cell_type": "markdown",
      "metadata": {
        "id": "i-lDrwlmqGJs",
        "colab_type": "text"
      },
      "source": [
        "Scale the pixel intensity in images in the range of 0-1 and convert X and Y lists to NumPy array."
      ]
    },
    {
      "cell_type": "code",
      "metadata": {
        "id": "FVWaGqf24v2M",
        "colab_type": "code",
        "colab": {}
      },
      "source": [
        "X=np.array(X)/255.0"
      ],
      "execution_count": 0,
      "outputs": []
    },
    {
      "cell_type": "code",
      "metadata": {
        "id": "FmcYNi7TkkJO",
        "colab_type": "code",
        "colab": {}
      },
      "source": [
        "Y=np.array(Y)"
      ],
      "execution_count": 0,
      "outputs": []
    },
    {
      "cell_type": "markdown",
      "metadata": {
        "id": "lKSR-pjcwgoP",
        "colab_type": "text"
      },
      "source": [
        "Prepare training and test datasets"
      ]
    },
    {
      "cell_type": "code",
      "metadata": {
        "id": "LvXGGlxrq5D9",
        "colab_type": "code",
        "colab": {}
      },
      "source": [
        "(trainX, testX, trainY, testY) = train_test_split(X, Y,\n",
        "\ttest_size=0.20)"
      ],
      "execution_count": 0,
      "outputs": []
    },
    {
      "cell_type": "markdown",
      "metadata": {
        "id": "u_dJDBKf7RP0",
        "colab_type": "text"
      },
      "source": [
        "Build the model"
      ]
    },
    {
      "cell_type": "code",
      "metadata": {
        "id": "cGOvCEEhohNb",
        "colab_type": "code",
        "colab": {}
      },
      "source": [
        "baseModel = VGG16(weights=\"imagenet\", include_top=False,\n",
        "\tinput_tensor=Input(shape=(224, 224, 3)))"
      ],
      "execution_count": 0,
      "outputs": []
    },
    {
      "cell_type": "code",
      "metadata": {
        "id": "QC1tPMd_ous9",
        "colab_type": "code",
        "colab": {}
      },
      "source": [
        "for layer in baseModel.layers:\n",
        "\tlayer.trainable = False"
      ],
      "execution_count": 0,
      "outputs": []
    },
    {
      "cell_type": "code",
      "metadata": {
        "id": "yuYYBFBzo6r9",
        "colab_type": "code",
        "colab": {}
      },
      "source": [
        "headModel = baseModel.output\n",
        "headModel = AveragePooling2D(pool_size=(4, 4))(headModel)\n",
        "headModel = Flatten(name=\"flatten\")(headModel)\n",
        "headModel = Dense(64, activation=\"relu\")(headModel)\n",
        "headModel = Dropout(0.5)(headModel)\n",
        "headModel = Dense(1, activation=\"sigmoid\")(headModel)"
      ],
      "execution_count": 0,
      "outputs": []
    },
    {
      "cell_type": "code",
      "metadata": {
        "id": "-BM_UX-UpDfX",
        "colab_type": "code",
        "colab": {}
      },
      "source": [
        "model = Model(inputs=baseModel.input, outputs=headModel)"
      ],
      "execution_count": 0,
      "outputs": []
    },
    {
      "cell_type": "markdown",
      "metadata": {
        "id": "og_KyfW47mzM",
        "colab_type": "text"
      },
      "source": [
        "Compile the model\n"
      ]
    },
    {
      "cell_type": "code",
      "metadata": {
        "id": "kMjQFtK4Ke8s",
        "colab_type": "code",
        "colab": {}
      },
      "source": [
        "model.compile(optimizer='adam',loss='binary_crossentropy',metrics=['accuracy'])"
      ],
      "execution_count": 0,
      "outputs": []
    },
    {
      "cell_type": "code",
      "metadata": {
        "id": "8JWa4lJASfFK",
        "colab_type": "code",
        "colab": {}
      },
      "source": [
        "model.summary()"
      ],
      "execution_count": 0,
      "outputs": []
    },
    {
      "cell_type": "markdown",
      "metadata": {
        "id": "plcv-_k47xXI",
        "colab_type": "text"
      },
      "source": [
        "Train the model"
      ]
    },
    {
      "cell_type": "code",
      "metadata": {
        "id": "31jXSm4OMlLB",
        "colab_type": "code",
        "colab": {}
      },
      "source": [
        "model.fit(trainX,trainY,epochs=10,shuffle=True)"
      ],
      "execution_count": 0,
      "outputs": []
    },
    {
      "cell_type": "markdown",
      "metadata": {
        "id": "IWNcH8ub7591",
        "colab_type": "text"
      },
      "source": [
        "Evaluate the model"
      ]
    },
    {
      "cell_type": "code",
      "metadata": {
        "id": "QWoHTETOSloe",
        "colab_type": "code",
        "colab": {}
      },
      "source": [
        "model.evaluate(testX,testY)"
      ],
      "execution_count": 0,
      "outputs": []
    },
    {
      "cell_type": "markdown",
      "metadata": {
        "id": "EQChm_M48Daq",
        "colab_type": "text"
      },
      "source": [
        "Make predictions"
      ]
    },
    {
      "cell_type": "code",
      "metadata": {
        "id": "ra0qLga0VwmW",
        "colab_type": "code",
        "colab": {}
      },
      "source": [
        "p=model.predict(X)"
      ],
      "execution_count": 0,
      "outputs": []
    },
    {
      "cell_type": "markdown",
      "metadata": {
        "id": "Aw-u4kVS8LMd",
        "colab_type": "text"
      },
      "source": [
        "Verify prediction"
      ]
    },
    {
      "cell_type": "code",
      "metadata": {
        "id": "fv5SfVRjV8MQ",
        "colab_type": "code",
        "colab": {}
      },
      "source": [
        "p[35]"
      ],
      "execution_count": 0,
      "outputs": []
    },
    {
      "cell_type": "code",
      "metadata": {
        "id": "IkFoWe-LXkzg",
        "colab_type": "code",
        "colab": {}
      },
      "source": [
        "plt.imshow(x1[0])"
      ],
      "execution_count": 0,
      "outputs": []
    }
  ]
}